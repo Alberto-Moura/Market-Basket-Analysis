{
  "nbformat": 4,
  "nbformat_minor": 0,
  "metadata": {
    "colab": {
      "provenance": [],
      "authorship_tag": "ABX9TyNG05Y7NwLfpgJMBuZmtyVT",
      "include_colab_link": true
    },
    "kernelspec": {
      "name": "python3",
      "display_name": "Python 3"
    },
    "language_info": {
      "name": "python"
    }
  },
  "cells": [
    {
      "cell_type": "markdown",
      "metadata": {
        "id": "view-in-github",
        "colab_type": "text"
      },
      "source": [
        "<a href=\"https://colab.research.google.com/github/Alberto-Moura/Market-Basket-Analysis/blob/main/marketBasketAnalysis_OTP.ipynb\" target=\"_parent\"><img src=\"https://colab.research.google.com/assets/colab-badge.svg\" alt=\"Open In Colab\"/></a>"
      ]
    },
    {
      "cell_type": "markdown",
      "source": [
        "# **Market basket analysis (MBA)**\n",
        "\n",
        "técnica de análise de dados usada para identificar padrões de compra em conjunto. O objetivo é descobrir quais produtos são comprados juntos com mais frequência, ajudando na tomada de decisões como:\n",
        "\n",
        "🔹 Cross-selling → Sugestão de produtos complementares (ex: \"Clientes que compraram camiseta também compraram meias\").<br>\n",
        "🔹 Layout de lojas → Posicionar produtos próximos para aumentar vendas.<br>\n",
        "🔹 Promoções → Criar combos estratégicos com base nos itens frequentemente comprados juntos.<br>\n",
        "\n",
        "A análise é baseada em três métricas principais:\n",
        "\n",
        "🔹Suporte → Frequência do conjunto de itens na base de compras.<br>\n",
        "🔹Confiança → Probabilidade de comprar um item, dado que outro foi comprado.<br>\n",
        "🔹Lift → Mede se a compra conjunta acontece por acaso ou há uma forte relação\n",
        "entre os itens.<br>\n",
        "\n",
        "(Análise de cesta de mercado) - Loja Franquia"
      ],
      "metadata": {
        "id": "Zz9ptU6FnbyR"
      }
    },
    {
      "cell_type": "markdown",
      "source": [
        "**Importando as bibliotecas necessárias**"
      ],
      "metadata": {
        "id": "paf6U7-Sp3GT"
      }
    },
    {
      "cell_type": "code",
      "execution_count": null,
      "metadata": {
        "id": "pOX7MgYMnSrZ"
      },
      "outputs": [],
      "source": [
        "# Importando as bibliotecas necessárias\n",
        "import pandas as pd\n",
        "from mlxtend.preprocessing import TransactionEncoder\n",
        "from mlxtend.frequent_patterns import apriori, association_rules"
      ]
    },
    {
      "cell_type": "markdown",
      "source": [
        "**Leitura dos dados**"
      ],
      "metadata": {
        "id": "sD2Rs3zwoBxE"
      }
    },
    {
      "cell_type": "code",
      "source": [
        "# Carregue o arquivo Excel. Verifique o caminho do arquivo conforme necessário.\n",
        "df = pd.read_excel(\"dados_loja.xlsm\", sheet_name='dados_loja')"
      ],
      "metadata": {
        "id": "Xy6MqjIzn_2L"
      },
      "execution_count": null,
      "outputs": []
    },
    {
      "cell_type": "code",
      "source": [
        "# Visualize as primeiras linhas para confirmar a estrutura dos dados\n",
        "print(\"Dados originais:\")\n",
        "df.head()"
      ],
      "metadata": {
        "id": "RSAPgxGioHkj"
      },
      "execution_count": null,
      "outputs": []
    },
    {
      "cell_type": "markdown",
      "source": [
        "**Agrupamento dos produtos por transação**"
      ],
      "metadata": {
        "id": "Mjl14JrXoL1S"
      }
    },
    {
      "cell_type": "code",
      "source": [
        "df['data_str'] = df['DATA EMISSÃO'].dt.strftime('%d%m%Y')\n",
        "df['NF_str'] = df['nº NF'].astype(str)\n",
        "df['cupom_id'] = df['NF_str'] + df['data_str']"
      ],
      "metadata": {
        "id": "cAevTFT3wcHY"
      },
      "execution_count": null,
      "outputs": []
    },
    {
      "cell_type": "code",
      "source": [
        "# Supondo que cada transação seja identificada pelo 'cupom_id'\n",
        "# Cria uma lista de transações onde cada transação é uma lista de produtos comprados juntos.\n",
        "transactions = df.groupby('cupom_id')['MODELO'].apply(list).tolist()"
      ],
      "metadata": {
        "id": "nwq7r-0WoKFp"
      },
      "execution_count": null,
      "outputs": []
    },
    {
      "cell_type": "code",
      "source": [
        "# Exibe alguns exemplos de transações\n",
        "print(\"\\nExemplo de transações:\")\n",
        "for i, trans in enumerate(transactions[:5]):\n",
        "    print(f\"Transação {i+1}: {trans}\")"
      ],
      "metadata": {
        "id": "O6BXbU5aoP2C"
      },
      "execution_count": null,
      "outputs": []
    },
    {
      "cell_type": "markdown",
      "source": [
        "**Transformação dos dados para o formato one-hot encoding**"
      ],
      "metadata": {
        "id": "Wlljro2xoWV1"
      }
    },
    {
      "cell_type": "code",
      "source": [
        "# O TransactionEncoder converte a lista de transações em um array binário, onde cada coluna representa um produto.\n",
        "te = TransactionEncoder()\n",
        "te_array = te.fit_transform(transactions)\n",
        "df_trans = pd.DataFrame(te_array, columns=te.columns_)"
      ],
      "metadata": {
        "id": "3v1i9AuOoSHM"
      },
      "execution_count": null,
      "outputs": []
    },
    {
      "cell_type": "code",
      "source": [
        "# Visualize o DataFrame transformado\n",
        "print(\"\\nDados após one-hot encoding:\")\n",
        "df_trans.head()"
      ],
      "metadata": {
        "id": "4XtyuaqXoX00"
      },
      "execution_count": null,
      "outputs": []
    },
    {
      "cell_type": "markdown",
      "source": [
        "**Aplicação do algoritmo Apriori para encontrar itemsets frequentes**"
      ],
      "metadata": {
        "id": "BuVxTdqNoZ0a"
      }
    },
    {
      "cell_type": "code",
      "source": [
        "# Defina um suporte mínimo (exemplo: 2% das transações). Ajuste conforme a necessidade.\n",
        "min_support = 0.02\n",
        "frequent_itemsets = apriori(df_trans, min_support=min_support, use_colnames=True)"
      ],
      "metadata": {
        "id": "f2AFJI5MocAW"
      },
      "execution_count": null,
      "outputs": []
    },
    {
      "cell_type": "code",
      "source": [
        "# Ordene os itemsets por suporte para ver os mais frequentes\n",
        "frequent_itemsets = frequent_itemsets.sort_values(by='support', ascending=False)\n",
        "print(\"\\nItemsets frequentes (suporte >= {:.0%}):\".format(min_support))\n",
        "frequent_itemsets.head()"
      ],
      "metadata": {
        "id": "ZgqJSke6od0O"
      },
      "execution_count": null,
      "outputs": []
    },
    {
      "cell_type": "markdown",
      "source": [
        "**Geração das regras de associação**"
      ],
      "metadata": {
        "id": "zLj3pvRzohvK"
      }
    },
    {
      "cell_type": "code",
      "source": [
        "# Defina uma confiança mínima (exemplo: 30%). Você pode ajustar conforme seu interesse.\n",
        "min_confidence = 0.3\n",
        "rules = association_rules(frequent_itemsets, metric=\"confidence\", min_threshold=min_confidence)"
      ],
      "metadata": {
        "id": "Lx4tAQoOofeB"
      },
      "execution_count": null,
      "outputs": []
    },
    {
      "cell_type": "code",
      "source": [
        "# Ordene as regras pela confiança para ver as mais fortes\n",
        "rules = rules.sort_values(by='confidence', ascending=False)\n",
        "print(\"\\nRegras de associação (confiança >= {:.0%}):\".format(min_confidence))\n",
        "rules.head()"
      ],
      "metadata": {
        "id": "J3JsAZWfolBE"
      },
      "execution_count": null,
      "outputs": []
    },
    {
      "cell_type": "markdown",
      "source": [
        "**Exemplo de interpretação dos resultados:**"
      ],
      "metadata": {
        "id": "KGLI8wksqgtw"
      }
    },
    {
      "cell_type": "code",
      "source": [
        "# Construindo a tabela de probabilidade de compra (confiança)\n",
        "# Para cada par de produtos (A, B), vamos calcular:\n",
        "#   confiança(A -> B) = suporte(A e B) / suporte(A)\n",
        "\n",
        "# Obtemos a lista de produtos a partir das colunas do DataFrame one-hot encoded\n",
        "produtos = df_trans.columns\n",
        "\n",
        "# Calcula o suporte individual de cada produto (média da coluna True/False)\n",
        "suportes = df_trans.mean()\n",
        "\n",
        "# Cria um DataFrame vazio para armazenar as confianças, indexado e com colunas iguais à lista de produtos\n",
        "conf_table = pd.DataFrame(index=produtos, columns=produtos)\n",
        "\n",
        "# Para cada par de produtos (A, B), calcular confiança(A -> B)\n",
        "for produto_a in produtos:\n",
        "    for produto_b in produtos:\n",
        "        # Se A e B forem iguais, não faz sentido calcular (poderíamos colocar 1 ou deixar vazio)\n",
        "        if produto_a == produto_b:\n",
        "            conf_table.loc[produto_a, produto_b] = None\n",
        "        else:\n",
        "            # Suporte da conjunção: transações onde A e B aparecem juntas\n",
        "            suporte_a_b = (df_trans[produto_a] & df_trans[produto_b]).mean()\n",
        "            # Se o suporte de A for zero, a confiança não pode ser calculada; caso contrário, calcula\n",
        "            if suportes[produto_a] > 0:\n",
        "                conf = suporte_a_b / suportes[produto_a]\n",
        "            else:\n",
        "                conf = 0\n",
        "            conf_table.loc[produto_a, produto_b] = conf\n",
        "\n",
        "# Converter os valores para float (exceto os nulos)\n",
        "conf_table = conf_table.astype(float)\n",
        "\n",
        "print(\"\\nTabela de probabilidade de compra (confiança):\")\n",
        "conf_table"
      ],
      "metadata": {
        "id": "coYnmKqHqi8z"
      },
      "execution_count": null,
      "outputs": []
    }
  ]
}